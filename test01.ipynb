{
 "cells": [
  {
   "cell_type": "code",
   "execution_count": 32,
   "id": "24c6bd67",
   "metadata": {},
   "outputs": [],
   "source": [
    "import numpy as np"
   ]
  },
  {
   "cell_type": "code",
   "execution_count": 33,
   "id": "fe481a3d",
   "metadata": {},
   "outputs": [],
   "source": [
    "###################################\n",
    "##### DATOS ENTRADA LAPLACE #######\n",
    "###################################\n",
    "##Dimensiones de la placa\n",
    "totDimX=20\n",
    "totDimY=10\n",
    "##Temperatura de los Bordes\n",
    "tempBordeR=100\n",
    "tempBordeL=0\n",
    "tempBordeU=0\n",
    "tempBordeD=0\n",
    "###################################\n",
    "\n",
    "#Numero de pasos\n",
    "#nPasosX nPasosY: Cantidad de espacios que se deja para cada eje.\n",
    "n=8 # nPasosX\n",
    "m=4 # nPasosY\n",
    "nPasosX=n\n",
    "nPasosY=m"
   ]
  },
  {
   "cell_type": "code",
   "execution_count": 34,
   "id": "c636ea89",
   "metadata": {},
   "outputs": [
    {
     "name": "stdout",
     "output_type": "stream",
     "text": [
      "2.5\n",
      "2.5\n"
     ]
    }
   ],
   "source": [
    "#Tamaño de Pasos\n",
    "pasoX=(totDimX)/nPasosX\n",
    "pasoY=(totDimY)/nPasosY\n",
    "print(pasoX)\n",
    "print(pasoY)"
   ]
  },
  {
   "cell_type": "code",
   "execution_count": 35,
   "id": "8ca70ca0",
   "metadata": {},
   "outputs": [
    {
     "data": {
      "text/plain": [
       "array([[0., 0., 0., 0., 0.],\n",
       "       [0., 0., 0., 0., 0.],\n",
       "       [0., 0., 0., 0., 0.],\n",
       "       [0., 0., 0., 0., 0.],\n",
       "       [0., 0., 0., 0., 0.],\n",
       "       [0., 0., 0., 0., 0.],\n",
       "       [0., 0., 0., 0., 0.],\n",
       "       [0., 0., 0., 0., 0.],\n",
       "       [0., 0., 0., 0., 0.]])"
      ]
     },
     "execution_count": 35,
     "metadata": {},
     "output_type": "execute_result"
    }
   ],
   "source": [
    "##INICIALIZAMOS EL ARRAY \n",
    "#calcArray: Array donde guardamos los valores F(x,y) de los puntos discretos.\n",
    "calcArray = np.zeros((nPasosX+1,nPasosY+1))\n",
    "calcArray"
   ]
  },
  {
   "cell_type": "code",
   "execution_count": 36,
   "id": "9f90f291",
   "metadata": {},
   "outputs": [
    {
     "data": {
      "text/plain": [
       "array([[False, False, False, False, False],\n",
       "       [False, False, False, False, False],\n",
       "       [False, False, False, False, False],\n",
       "       [False, False, False, False, False],\n",
       "       [False, False, False, False, False],\n",
       "       [False, False, False, False, False],\n",
       "       [False, False, False, False, False],\n",
       "       [False, False, False, False, False],\n",
       "       [False, False, False, False, False]])"
      ]
     },
     "execution_count": 36,
     "metadata": {},
     "output_type": "execute_result"
    }
   ],
   "source": [
    "#boolArray: Array donde guardamaos que puntos discretos ya tenemos conocidos.\n",
    "boolArray = np.full((nPasosX+1,nPasosY+1),False)\n",
    "boolArray"
   ]
  },
  {
   "cell_type": "code",
   "execution_count": 37,
   "id": "44035bcf",
   "metadata": {},
   "outputs": [
    {
     "data": {
      "text/plain": [
       "array([[  0.,   0.,   0.,   0.,   0.],\n",
       "       [  0.,   0.,   0.,   0.,   0.],\n",
       "       [  0.,   0.,   0.,   0.,   0.],\n",
       "       [  0.,   0.,   0.,   0.,   0.],\n",
       "       [  0.,   0.,   0.,   0.,   0.],\n",
       "       [  0.,   0.,   0.,   0.,   0.],\n",
       "       [  0.,   0.,   0.,   0.,   0.],\n",
       "       [  0.,   0.,   0.,   0.,   0.],\n",
       "       [  0., 100., 100., 100.,   0.]])"
      ]
     },
     "execution_count": 37,
     "metadata": {},
     "output_type": "execute_result"
    }
   ],
   "source": [
    "#CONFIGURACION INICIAL DE LA PLACA\n",
    "#SETEAMOS LOS BORDES\n",
    "for j in range(1,nPasosY):\n",
    "    calcArray[0][j]=tempBordeL\n",
    "    calcArray[nPasosX][j]=tempBordeR\n",
    "    boolArray[0][j]=True\n",
    "    boolArray[nPasosX][j]=True\n",
    "\n",
    "for i in range(1,nPasosX):\n",
    "    calcArray[i][0]=tempBordeU\n",
    "    calcArray[i][nPasosY]=tempBordeD  \n",
    "    boolArray[i][0]=True\n",
    "    boolArray[i][nPasosY]=True  \n",
    "calcArray\n"
   ]
  },
  {
   "cell_type": "code",
   "execution_count": 39,
   "id": "09e1468a",
   "metadata": {},
   "outputs": [
    {
     "data": {
      "text/plain": [
       "array([[-1, -1, -1, -1, -1],\n",
       "       [-1,  0,  7, 14, -1],\n",
       "       [-1,  1,  8, 15, -1],\n",
       "       [-1,  2,  9, 16, -1],\n",
       "       [-1,  3, 10, 17, -1],\n",
       "       [-1,  4, 11, 18, -1],\n",
       "       [-1,  5, 12, 19, -1],\n",
       "       [-1,  6, 13, 20, -1],\n",
       "       [-1, -1, -1, -1, -1]])"
      ]
     },
     "execution_count": 39,
     "metadata": {},
     "output_type": "execute_result"
    }
   ],
   "source": [
    "##indicesArray: Array que contendrá los indices para la recolocacion de los valores. Para Ploteo\n",
    "indicesArray = np.full((nPasosX+1,nPasosY+1),-1)\n",
    "contador = 0\n",
    "for j in range(1,nPasosY):\n",
    "    for i in range(1,nPasosX):\n",
    "        indicesArray[i][j]=contador\n",
    "        contador+=1\n",
    "indicesArray"
   ]
  },
  {
   "cell_type": "code",
   "execution_count": null,
   "id": "add68794",
   "metadata": {},
   "outputs": [],
   "source": [
    "## Definicion de funcion de Carga para Poisson (Aun no funcional)\n",
    "def carga(x,y):\n",
    "    return 0"
   ]
  },
  {
   "attachments": {
    "image.png": {
     "image/png": "[encoded data removed]"
    }
   },
   "cell_type": "markdown",
   "id": "d340ae2b",
   "metadata": {},
   "source": [
    "El fin del método es obtener un sistema de ecuaciones, el cual será resuelto utilizando matrices, para apoyranos con la librería de numpy.\n",
    "\n",
    "![image.png](attachment:image.png)"
   ]
  },
  {
   "cell_type": "code",
   "execution_count": 38,
   "id": "3392c62f",
   "metadata": {},
   "outputs": [],
   "source": [
    "##Inicializando coefArray\n",
    "#coefArray: Array donde se contendrá los Coeficientes para el sistema de Ecuaciones\n",
    "nVariables= (nPasosX-1)*(nPasosY-1)\n",
    "coefArray= np.zeros((nVariables,nVariables))\n",
    "#coefArray"
   ]
  },
  {
   "attachments": {
    "image.png": {
     "image/png": "[encoded data removed]"
    }
   },
   "cell_type": "markdown",
   "id": "0774c7c8",
   "metadata": {},
   "source": [
    "![image.png](attachment:image.png)"
   ]
  },
  {
   "cell_type": "code",
   "execution_count": 40,
   "id": "9145fe99",
   "metadata": {},
   "outputs": [],
   "source": [
    "##Inicializando indepArray\n",
    "#indepArray Array donde se contendrá los terminos independientes para el sistema de Ecuaciones\n",
    "indepArray = np.zeros((nVariables,1))\n",
    "'''\n",
    "for i in range(nVariables):\n",
    "    indepArray[i][1] = carga(x,y)\n",
    "indepArray\n",
    "'''"
   ]
  },
  {
   "cell_type": "code",
   "execution_count": 41,
   "id": "229d2eaa",
   "metadata": {},
   "outputs": [
    {
     "name": "stdout",
     "output_type": "stream",
     "text": [
      "[[-16.   4.   0.   0.   0.   0.   0.   4.   0.   0.   0.   0.   0.   0.\n",
      "    0.   0.   0.   0.   0.   0.   0.]\n",
      " [  4. -16.   4.   0.   0.   0.   0.   0.   4.   0.   0.   0.   0.   0.\n",
      "    0.   0.   0.   0.   0.   0.   0.]\n",
      " [  0.   4. -16.   4.   0.   0.   0.   0.   0.   4.   0.   0.   0.   0.\n",
      "    0.   0.   0.   0.   0.   0.   0.]\n",
      " [  0.   0.   4. -16.   4.   0.   0.   0.   0.   0.   4.   0.   0.   0.\n",
      "    0.   0.   0.   0.   0.   0.   0.]\n",
      " [  0.   0.   0.   4. -16.   4.   0.   0.   0.   0.   0.   4.   0.   0.\n",
      "    0.   0.   0.   0.   0.   0.   0.]\n",
      " [  0.   0.   0.   0.   4. -16.   4.   0.   0.   0.   0.   0.   4.   0.\n",
      "    0.   0.   0.   0.   0.   0.   0.]\n",
      " [  0.   0.   0.   0.   0.   4. -16.   0.   0.   0.   0.   0.   0.   4.\n",
      "    0.   0.   0.   0.   0.   0.   0.]\n",
      " [  4.   0.   0.   0.   0.   0.   0. -16.   4.   0.   0.   0.   0.   0.\n",
      "    4.   0.   0.   0.   0.   0.   0.]\n",
      " [  0.   4.   0.   0.   0.   0.   0.   4. -16.   4.   0.   0.   0.   0.\n",
      "    0.   4.   0.   0.   0.   0.   0.]\n",
      " [  0.   0.   4.   0.   0.   0.   0.   0.   4. -16.   4.   0.   0.   0.\n",
      "    0.   0.   4.   0.   0.   0.   0.]\n",
      " [  0.   0.   0.   4.   0.   0.   0.   0.   0.   4. -16.   4.   0.   0.\n",
      "    0.   0.   0.   4.   0.   0.   0.]\n",
      " [  0.   0.   0.   0.   4.   0.   0.   0.   0.   0.   4. -16.   4.   0.\n",
      "    0.   0.   0.   0.   4.   0.   0.]\n",
      " [  0.   0.   0.   0.   0.   4.   0.   0.   0.   0.   0.   4. -16.   4.\n",
      "    0.   0.   0.   0.   0.   4.   0.]\n",
      " [  0.   0.   0.   0.   0.   0.   4.   0.   0.   0.   0.   0.   4. -16.\n",
      "    0.   0.   0.   0.   0.   0.   4.]\n",
      " [  0.   0.   0.   0.   0.   0.   0.   4.   0.   0.   0.   0.   0.   0.\n",
      "  -16.   4.   0.   0.   0.   0.   0.]\n",
      " [  0.   0.   0.   0.   0.   0.   0.   0.   4.   0.   0.   0.   0.   0.\n",
      "    4. -16.   4.   0.   0.   0.   0.]\n",
      " [  0.   0.   0.   0.   0.   0.   0.   0.   0.   4.   0.   0.   0.   0.\n",
      "    0.   4. -16.   4.   0.   0.   0.]\n",
      " [  0.   0.   0.   0.   0.   0.   0.   0.   0.   0.   4.   0.   0.   0.\n",
      "    0.   0.   4. -16.   4.   0.   0.]\n",
      " [  0.   0.   0.   0.   0.   0.   0.   0.   0.   0.   0.   4.   0.   0.\n",
      "    0.   0.   0.   4. -16.   4.   0.]\n",
      " [  0.   0.   0.   0.   0.   0.   0.   0.   0.   0.   0.   0.   4.   0.\n",
      "    0.   0.   0.   0.   4. -16.   4.]\n",
      " [  0.   0.   0.   0.   0.   0.   0.   0.   0.   0.   0.   0.   0.   4.\n",
      "    0.   0.   0.   0.   0.   4. -16.]]\n",
      "[[  -0.]\n",
      " [  -0.]\n",
      " [  -0.]\n",
      " [  -0.]\n",
      " [  -0.]\n",
      " [  -0.]\n",
      " [-400.]\n",
      " [  -0.]\n",
      " [   0.]\n",
      " [   0.]\n",
      " [   0.]\n",
      " [   0.]\n",
      " [   0.]\n",
      " [-400.]\n",
      " [  -0.]\n",
      " [  -0.]\n",
      " [  -0.]\n",
      " [  -0.]\n",
      " [  -0.]\n",
      " [  -0.]\n",
      " [-400.]]\n"
     ]
    }
   ],
   "source": [
    "##METODO ITERATIVO \n",
    "\n",
    "_pasoX2=1/(pasoX*pasoX)\n",
    "_pasoY2=1/(pasoY*pasoY)\n",
    "contador=0\n",
    "#print(_pasoX2)\n",
    "for j in range(1,nPasosY):\n",
    "    for i in range(1,nPasosX):\n",
    "        #print('\\nCONTADOR: '+str(contador))\n",
    "        _indep=0\n",
    "        #i-1      \n",
    "        if(boolArray[i-1][j]):\n",
    "            _indep+=calcArray[i-1][j]*_pasoX2\n",
    "        else:\n",
    "            coefArray[contador][indicesArray[i-1][j]]=1*_pasoX2\n",
    "        #i+1 \n",
    "        if(boolArray[i+1][j]):\n",
    "            _indep+=calcArray[i+1][j]*_pasoX2\n",
    "        else:\n",
    "            coefArray[contador][indicesArray[i+1][j]]=1*_pasoX2\n",
    "        #j-1      \n",
    "        if(boolArray[i][j-1]):\n",
    "            _indep+=calcArray[i][j-1]*_pasoX2\n",
    "        else:\n",
    "            coefArray[contador][indicesArray[i][j-1]]=1*_pasoY2\n",
    "        #j+1 \n",
    "        if(boolArray[i][j+1]):\n",
    "            _indep+=calcArray[i][j+1]*_pasoX2\n",
    "        else:\n",
    "            coefArray[contador][indicesArray[i][j+1]]=1*_pasoY2\n",
    "        #ij\n",
    "        coefArray[contador][indicesArray[i][j]]=(-2)*_pasoY2+(-2)*_pasoX2\n",
    "        \n",
    "        indepArray[contador][0]=-_indep\n",
    "        #print('\\nSIST ECUACION:'+str(coefArray[contador]))\n",
    "        #print('\\nCoef Indp:'+str(indepArray[contador][0]))\n",
    "        contador+=1\n",
    "print(coefArray*5*5) #Array de coeficientes para sist de ecuaciones\n",
    "print(indepArray*5*5)\n",
    "\n",
    "##FALTA ARREGLAR PARA POISSON\n",
    "\n"
   ]
  },
  {
   "attachments": {
    "image.png": {
     "image/png": "[encoded data removed]"
    }
   },
   "cell_type": "markdown",
   "id": "70425f76",
   "metadata": {},
   "source": [
    "![image.png](attachment:image.png)"
   ]
  },
  {
   "cell_type": "code",
   "execution_count": 42,
   "id": "06400dc7",
   "metadata": {},
   "outputs": [
    {
     "data": {
      "text/plain": [
       "array([[-1.87618114, -0.63177002, -0.23676071, -0.09648463, -0.04144821,\n",
       "        -0.01793074, -0.00676149, -0.62295452, -0.41413825, -0.21878817,\n",
       "        -0.1077296 , -0.05137746, -0.02351325, -0.00911523, -0.2014987 ,\n",
       "        -0.18304027, -0.11652414, -0.06426813, -0.03281879, -0.01562956,\n",
       "        -0.0061862 ],\n",
       "       [-0.63177002, -2.11294184, -0.72825465, -0.27820891, -0.11441536,\n",
       "        -0.0482097 , -0.01793074, -0.41413825, -0.84174269, -0.52186785,\n",
       "        -0.27016563, -0.13124285, -0.06049269, -0.02351325, -0.18304027,\n",
       "        -0.31802284, -0.24730841, -0.14934293, -0.07989769, -0.03900499,\n",
       "        -0.01562956],\n",
       "       [-0.23676071, -0.72825465, -2.15439005, -0.74618539, -0.2849704 ,\n",
       "        -0.11441536, -0.04144821, -0.21878817, -0.52186785, -0.89312015,\n",
       "        -0.54538109, -0.27928087, -0.13124285, -0.05137746, -0.11652414,\n",
       "        -0.24730841, -0.35084163, -0.26293796, -0.15552913, -0.07989769,\n",
       "        -0.03281879],\n",
       "       [-0.09648463, -0.27820891, -0.74618539, -2.16115154, -0.74618539,\n",
       "        -0.27820891, -0.09648463, -0.1077296 , -0.27016563, -0.54538109,\n",
       "        -0.90223539, -0.54538109, -0.27016563, -0.1077296 , -0.06426813,\n",
       "        -0.14934293, -0.26293796, -0.35702783, -0.26293796, -0.14934293,\n",
       "        -0.06426813],\n",
       "       [-0.04144821, -0.11441536, -0.2849704 , -0.74618539, -2.15439005,\n",
       "        -0.72825465, -0.23676071, -0.05137746, -0.13124285, -0.27928087,\n",
       "        -0.54538109, -0.89312015, -0.52186785, -0.21878817, -0.03281879,\n",
       "        -0.07989769, -0.15552913, -0.26293796, -0.35084163, -0.24730841,\n",
       "        -0.11652414],\n",
       "       [-0.01793074, -0.0482097 , -0.11441536, -0.27820891, -0.72825465,\n",
       "        -2.11294184, -0.63177002, -0.02351325, -0.06049269, -0.13124285,\n",
       "        -0.27016563, -0.52186785, -0.84174269, -0.41413825, -0.01562956,\n",
       "        -0.03900499, -0.07989769, -0.14934293, -0.24730841, -0.31802284,\n",
       "        -0.18304027],\n",
       "       [-0.00676149, -0.01793074, -0.04144821, -0.09648463, -0.23676071,\n",
       "        -0.63177002, -1.87618114, -0.00911523, -0.02351325, -0.05137746,\n",
       "        -0.1077296 , -0.21878817, -0.41413825, -0.62295452, -0.0061862 ,\n",
       "        -0.01562956, -0.03281879, -0.06426813, -0.11652414, -0.18304027,\n",
       "        -0.2014987 ],\n",
       "       [-0.62295452, -0.41413825, -0.21878817, -0.1077296 , -0.05137746,\n",
       "        -0.02351325, -0.00911523, -2.07767983, -0.81481029, -0.35328485,\n",
       "        -0.16075276, -0.07426699, -0.03356029, -0.01294769, -0.62295452,\n",
       "        -0.41413825, -0.21878817, -0.1077296 , -0.05137746, -0.02351325,\n",
       "        -0.00911523],\n",
       "       [-0.41413825, -0.84174269, -0.52186785, -0.27016563, -0.13124285,\n",
       "        -0.06049269, -0.02351325, -0.81481029, -2.43096468, -0.97556306,\n",
       "        -0.42755184, -0.19431306, -0.08721468, -0.03356029, -0.41413825,\n",
       "        -0.84174269, -0.52186785, -0.27016563, -0.13124285, -0.06049269,\n",
       "        -0.02351325],\n",
       "       [-0.21878817, -0.52186785, -0.89312015, -0.54538109, -0.27928087,\n",
       "        -0.13124285, -0.05137746, -0.35328485, -0.97556306, -2.50523168,\n",
       "        -1.00912335, -0.44049954, -0.19431306, -0.07426699, -0.21878817,\n",
       "        -0.52186785, -0.89312015, -0.54538109, -0.27928087, -0.13124285,\n",
       "        -0.05137746],\n",
       "       [-0.1077296 , -0.27016563, -0.54538109, -0.90223539, -0.54538109,\n",
       "        -0.27016563, -0.1077296 , -0.16075276, -0.42755184, -1.00912335,\n",
       "        -2.51817937, -1.00912335, -0.42755184, -0.16075276, -0.1077296 ,\n",
       "        -0.27016563, -0.54538109, -0.90223539, -0.54538109, -0.27016563,\n",
       "        -0.1077296 ],\n",
       "       [-0.05137746, -0.13124285, -0.27928087, -0.54538109, -0.89312015,\n",
       "        -0.52186785, -0.21878817, -0.07426699, -0.19431306, -0.44049954,\n",
       "        -1.00912335, -2.50523168, -0.97556306, -0.35328485, -0.05137746,\n",
       "        -0.13124285, -0.27928087, -0.54538109, -0.89312015, -0.52186785,\n",
       "        -0.21878817],\n",
       "       [-0.02351325, -0.06049269, -0.13124285, -0.27016563, -0.52186785,\n",
       "        -0.84174269, -0.41413825, -0.03356029, -0.08721468, -0.19431306,\n",
       "        -0.42755184, -0.97556306, -2.43096468, -0.81481029, -0.02351325,\n",
       "        -0.06049269, -0.13124285, -0.27016563, -0.52186785, -0.84174269,\n",
       "        -0.41413825],\n",
       "       [-0.00911523, -0.02351325, -0.05137746, -0.1077296 , -0.21878817,\n",
       "        -0.41413825, -0.62295452, -0.01294769, -0.03356029, -0.07426699,\n",
       "        -0.16075276, -0.35328485, -0.81481029, -2.07767983, -0.00911523,\n",
       "        -0.02351325, -0.05137746, -0.1077296 , -0.21878817, -0.41413825,\n",
       "        -0.62295452],\n",
       "       [-0.2014987 , -0.18304027, -0.11652414, -0.06426813, -0.03281879,\n",
       "        -0.01562956, -0.0061862 , -0.62295452, -0.41413825, -0.21878817,\n",
       "        -0.1077296 , -0.05137746, -0.02351325, -0.00911523, -1.87618114,\n",
       "        -0.63177002, -0.23676071, -0.09648463, -0.04144821, -0.01793074,\n",
       "        -0.00676149],\n",
       "       [-0.18304027, -0.31802284, -0.24730841, -0.14934293, -0.07989769,\n",
       "        -0.03900499, -0.01562956, -0.41413825, -0.84174269, -0.52186785,\n",
       "        -0.27016563, -0.13124285, -0.06049269, -0.02351325, -0.63177002,\n",
       "        -2.11294184, -0.72825465, -0.27820891, -0.11441536, -0.0482097 ,\n",
       "        -0.01793074],\n",
       "       [-0.11652414, -0.24730841, -0.35084163, -0.26293796, -0.15552913,\n",
       "        -0.07989769, -0.03281879, -0.21878817, -0.52186785, -0.89312015,\n",
       "        -0.54538109, -0.27928087, -0.13124285, -0.05137746, -0.23676071,\n",
       "        -0.72825465, -2.15439005, -0.74618539, -0.2849704 , -0.11441536,\n",
       "        -0.04144821],\n",
       "       [-0.06426813, -0.14934293, -0.26293796, -0.35702783, -0.26293796,\n",
       "        -0.14934293, -0.06426813, -0.1077296 , -0.27016563, -0.54538109,\n",
       "        -0.90223539, -0.54538109, -0.27016563, -0.1077296 , -0.09648463,\n",
       "        -0.27820891, -0.74618539, -2.16115154, -0.74618539, -0.27820891,\n",
       "        -0.09648463],\n",
       "       [-0.03281879, -0.07989769, -0.15552913, -0.26293796, -0.35084163,\n",
       "        -0.24730841, -0.11652414, -0.05137746, -0.13124285, -0.27928087,\n",
       "        -0.54538109, -0.89312015, -0.52186785, -0.21878817, -0.04144821,\n",
       "        -0.11441536, -0.2849704 , -0.74618539, -2.15439005, -0.72825465,\n",
       "        -0.23676071],\n",
       "       [-0.01562956, -0.03900499, -0.07989769, -0.14934293, -0.24730841,\n",
       "        -0.31802284, -0.18304027, -0.02351325, -0.06049269, -0.13124285,\n",
       "        -0.27016563, -0.52186785, -0.84174269, -0.41413825, -0.01793074,\n",
       "        -0.0482097 , -0.11441536, -0.27820891, -0.72825465, -2.11294184,\n",
       "        -0.63177002],\n",
       "       [-0.0061862 , -0.01562956, -0.03281879, -0.06426813, -0.11652414,\n",
       "        -0.18304027, -0.2014987 , -0.00911523, -0.02351325, -0.05137746,\n",
       "        -0.1077296 , -0.21878817, -0.41413825, -0.62295452, -0.00676149,\n",
       "        -0.01793074, -0.04144821, -0.09648463, -0.23676071, -0.63177002,\n",
       "        -1.87618114]])"
      ]
     },
     "execution_count": 42,
     "metadata": {},
     "output_type": "execute_result"
    }
   ],
   "source": [
    "#Inversa de Array Coeficientes\n",
    "coefArrayInv=np.linalg.inv(coefArray)\n",
    "coefArrayInv"
   ]
  },
  {
   "cell_type": "code",
   "execution_count": 43,
   "id": "195814f7",
   "metadata": {},
   "outputs": [
    {
     "data": {
      "text/plain": [
       "array([[ 0.35300681],\n",
       "       [ 0.91317668],\n",
       "       [ 2.01031126],\n",
       "       [ 4.29571775],\n",
       "       [ 9.1531684 ],\n",
       "       [19.66317668],\n",
       "       [43.21014967],\n",
       "       [ 0.49885056],\n",
       "       [ 1.28938863],\n",
       "       [ 2.83235062],\n",
       "       [ 6.01939133],\n",
       "       [12.65377919],\n",
       "       [26.28938863],\n",
       "       [53.17742199],\n",
       "       [ 0.35300681],\n",
       "       [ 0.91317668],\n",
       "       [ 2.01031126],\n",
       "       [ 4.29571775],\n",
       "       [ 9.1531684 ],\n",
       "       [19.66317668],\n",
       "       [43.21014967]])"
      ]
     },
     "execution_count": 43,
     "metadata": {},
     "output_type": "execute_result"
    }
   ],
   "source": [
    "\n",
    "incogArray=np.matmul(coefArrayInv,indepArray)\n",
    "#incogArray = incogArray[nVariables-1]\n",
    "incogArray\n"
   ]
  },
  {
   "cell_type": "code",
   "execution_count": 44,
   "id": "ae0a3678",
   "metadata": {},
   "outputs": [],
   "source": [
    "calcArray2 = np.copy(calcArray)\n",
    "for j in range(1,nPasosY):\n",
    "    for i in range(1,nPasosX):\n",
    "        calcArray2[i][j]=incogArray[indicesArray[i][j]]\n",
    "#calcArray2"
   ]
  },
  {
   "cell_type": "code",
   "execution_count": 45,
   "id": "d13b0d63",
   "metadata": {},
   "outputs": [
    {
     "name": "stdout",
     "output_type": "stream",
     "text": [
      "  0.0000   0.0000   0.0000   0.0000   0.0000   0.0000   0.0000   0.0000   0.0000 \n",
      "\n",
      "  0.0000   0.3530   0.9132   2.0103   4.2957   9.1532  19.6632  43.2101 100.0000 \n",
      "\n",
      "  0.0000   0.4989   1.2894   2.8324   6.0194  12.6538  26.2894  53.1774 100.0000 \n",
      "\n",
      "  0.0000   0.3530   0.9132   2.0103   4.2957   9.1532  19.6632  43.2101 100.0000 \n",
      "\n",
      "  0.0000   0.0000   0.0000   0.0000   0.0000   0.0000   0.0000   0.0000   0.0000 \n",
      "\n"
     ]
    }
   ],
   "source": [
    "#PLOTEO ?\n",
    "for j in range(0,nPasosY+1):\n",
    "    for i in range(0,nPasosX+1):\n",
    "        print(\"{:8.4f}\".format(calcArray2[i][j]), end =' ')\n",
    "    print(\"\\n\")\n"
   ]
  },
  {
   "cell_type": "code",
   "execution_count": 46,
   "id": "ff210b6f",
   "metadata": {},
   "outputs": [
    {
     "name": "stdout",
     "output_type": "stream",
     "text": [
      "[[1 2 3]\n",
      " [2 5 4]]\n",
      "[[2 1]\n",
      " [3 2]\n",
      " [4 2]]\n",
      "[[ 4  9 10]\n",
      " [ 7 16 17]\n",
      " [ 8 18 20]]\n"
     ]
    }
   ],
   "source": [
    "arrayA = np.array([[1,2,3],[2,5,4]])\n",
    "arrayB = np.array([[2,1],[3,2],[4,2]])\n",
    "\n",
    "arrayC = np.matmul(arrayB,arrayA)\n",
    "print(arrayA)\n",
    "print(arrayB)\n",
    "print(arrayC)"
   ]
  }
 ],
 "metadata": {
  "kernelspec": {
   "display_name": "Python 3",
   "language": "python",
   "name": "python3"
  },
  "language_info": {
   "codemirror_mode": {
    "name": "ipython",
    "version": 3
   },
   "file_extension": ".py",
   "mimetype": "text/x-python",
   "name": "python",
   "nbconvert_exporter": "python",
   "pygments_lexer": "ipython3",
   "version": "3.8.8"
  },
  "vscode": {
   "interpreter": {
    "hash": "ad2bdc8ecc057115af97d19610ffacc2b4e99fae6737bb82f5d7fb13d2f2c186"
   }
  }
 },
 "nbformat": 4,
 "nbformat_minor": 5
}
